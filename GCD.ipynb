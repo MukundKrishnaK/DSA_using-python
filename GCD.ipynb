{
 "cells": [
  {
   "cell_type": "code",
   "execution_count": 3,
   "id": "901c6e28-47c3-468e-9eb1-d457b1ddfb07",
   "metadata": {},
   "outputs": [
    {
     "name": "stdin",
     "output_type": "stream",
     "text": [
      "Enter the first number:  500\n",
      "Enter the second number:  200\n"
     ]
    },
    {
     "name": "stdout",
     "output_type": "stream",
     "text": [
      "The GCD of 500 and 200 is 100\n"
     ]
    }
   ],
   "source": [
    "def simple_gcd(m, n):\n",
    "    fm = []\n",
    "    fn = []\n",
    "    cf = []\n",
    "\n",
    "    for i in range(1, m + 1):\n",
    "        if m % i == 0:\n",
    "            fm.append(i)\n",
    "\n",
    "    for j in range(1, n + 1):\n",
    "        if n % j == 0:\n",
    "            fn.append(j)\n",
    "\n",
    "    for f in fm:\n",
    "        if f in fn:\n",
    "            cf.append(f)\n",
    "\n",
    "    return max(cf)\n",
    "\n",
    "m = int(input(\"Enter the first number: \"))\n",
    "n = int(input(\"Enter the second number: \"))\n",
    "\n",
    "gcd = simple_gcd(m, n)\n",
    "print(f\"The GCD of {m} and {n} is {gcd}\")"
   ]
  },
  {
   "cell_type": "code",
   "execution_count": null,
   "id": "cf018e0f-86bc-40b0-b52e-a0665b0b1b65",
   "metadata": {},
   "outputs": [],
   "source": []
  },
  {
   "cell_type": "code",
   "execution_count": null,
   "id": "50e9e289-f0b9-4b2e-8aa1-7cffd71ebbe6",
   "metadata": {},
   "outputs": [],
   "source": []
  }
 ],
 "metadata": {
  "kernelspec": {
   "display_name": "Python 3 (ipykernel)",
   "language": "python",
   "name": "python3"
  },
  "language_info": {
   "codemirror_mode": {
    "name": "ipython",
    "version": 3
   },
   "file_extension": ".py",
   "mimetype": "text/x-python",
   "name": "python",
   "nbconvert_exporter": "python",
   "pygments_lexer": "ipython3",
   "version": "3.12.4"
  }
 },
 "nbformat": 4,
 "nbformat_minor": 5
}
