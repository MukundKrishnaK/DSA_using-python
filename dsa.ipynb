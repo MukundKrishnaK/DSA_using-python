{
 "cells": [
  {
   "cell_type": "code",
   "execution_count": 2,
   "id": "63be578c-0f20-42df-8a24-4c1ed0f2f2df",
   "metadata": {},
   "outputs": [
    {
     "name": "stdin",
     "output_type": "stream",
     "text": [
      "Enter the number of elements:  5\n",
      "Enter the elements separated by space:  1 2 3 4 5 \n"
     ]
    },
    {
     "name": "stdout",
     "output_type": "stream",
     "text": [
      "Result: [2, 6, 12, 20]\n"
     ]
    }
   ],
   "source": [
    "def multiply_adjacent_elements(elements):\n",
    "    return [elements[i] * elements[i + 1] for i in range(len(elements) - 1)]\n",
    "\n",
    "n = int(input(\"Enter the number of elements: \"))\n",
    "elements = list(map(int, input(\"Enter the elements separated by space: \").split()))\n",
    "\n",
    "if len(elements) == n:\n",
    "    result = multiply_adjacent_elements(elements)\n",
    "    print(\"Result:\", result)\n",
    "else:\n",
    "    print(\"Error: The number of elements does not match the specified count.\")"
   ]
  },
  {
   "cell_type": "code",
   "execution_count": 7,
   "id": "25d7398e-1a53-4270-860f-b719ff77a78c",
   "metadata": {},
   "outputs": [
    {
     "name": "stdout",
     "output_type": "stream",
     "text": [
      "after sorting [(1, 2), (2, 3), (4, 4), (2, 5)]\n"
     ]
    }
   ],
   "source": [
    "num=[(2,5),(1,2),(4,4),(2,3)]\n",
    "size=len(num)\n",
    "for i in range(0,size):\n",
    "    for j in range(0, size -i -1):\n",
    "        if num[j][1]>num[j+1][1]:\n",
    "            num[j],num[j+1]=num[j+1],num[j]\n",
    "print(\"after sorting\",num)"
   ]
  },
  {
   "cell_type": "code",
   "execution_count": 9,
   "id": "e9918a94-b988-43ba-bfc3-8f80a9d12049",
   "metadata": {},
   "outputs": [
    {
     "name": "stdout",
     "output_type": "stream",
     "text": [
      "Sum of all elements: 45\n"
     ]
    }
   ],
   "source": [
    "m = [\n",
    "    [1, 2, 3],\n",
    "    [4, 5, 6],\n",
    "    [7, 8, 9]\n",
    "]\n",
    "total_sum = 0\n",
    "for i in range(3):\n",
    "    for j in range(3):\n",
    "        total_sum += m[i][j]\n",
    "print(\"Sum of all elements:\", total_sum)"
   ]
  },
  {
   "cell_type": "code",
   "execution_count": 10,
   "id": "b3fd7cdd-bd16-4e29-a3c8-7fa0e46391e6",
   "metadata": {},
   "outputs": [
    {
     "name": "stdout",
     "output_type": "stream",
     "text": [
      "Sum of elements in row 1: 6\n",
      "Sum of elements in row 2: 15\n",
      "Sum of elements in row 3: 24\n"
     ]
    }
   ],
   "source": [
    "m = [\n",
    "    [1, 2, 3],\n",
    "    [4, 5, 6],\n",
    "    [7, 8, 9]\n",
    "]\n",
    "\n",
    "for i in range(3):\n",
    "    row_sum = 0\n",
    "    for j in range(3):\n",
    "        row_sum += m[i][j]\n",
    "    print(f\"Sum of elements in row {i + 1}: {row_sum}\")\n"
   ]
  },
  {
   "cell_type": "code",
   "execution_count": 11,
   "id": "19cba204-f4ac-4fa6-a861-1f73e4faf833",
   "metadata": {},
   "outputs": [
    {
     "name": "stdout",
     "output_type": "stream",
     "text": [
      "Enter the elements of a 3x3 matrix:\n"
     ]
    },
    {
     "name": "stdin",
     "output_type": "stream",
     "text": [
      "Enter element for row 1, column 1:  1\n",
      "Enter element for row 1, column 2:  5\n",
      "Enter element for row 1, column 3:  6\n",
      "Enter element for row 2, column 1:  8\n",
      "Enter element for row 2, column 2:  5\n",
      "Enter element for row 2, column 3:  7\n",
      "Enter element for row 3, column 1:  6\n",
      "Enter element for row 3, column 2:  2\n",
      "Enter element for row 3, column 3:  7\n"
     ]
    },
    {
     "name": "stdout",
     "output_type": "stream",
     "text": [
      "Sum of elements in row 1: 12\n",
      "Sum of elements in row 2: 20\n",
      "Sum of elements in row 3: 15\n"
     ]
    }
   ],
   "source": [
    "m = []\n",
    "print(\"Enter the elements:\")\n",
    "for i in range(3):\n",
    "    row = []\n",
    "    for j in range(3):\n",
    "        element = int(input(f\"Enter element for row {i + 1}, column {j + 1}: \"))\n",
    "        row.append(element)\n",
    "    m.append(row)\n",
    "for i in range(3):\n",
    "    row_sum = sum(m[i])\n",
    "    print(f\"Sum of elements in row {i + 1}: {row_sum}\")\n"
   ]
  },
  {
   "cell_type": "code",
   "execution_count": 1,
   "id": "b9f2bf7c-18b3-4068-80fa-5450968a4ba1",
   "metadata": {},
   "outputs": [
    {
     "name": "stdout",
     "output_type": "stream",
     "text": [
      "Input Array: [1, 2, 3, 4, 5]\n",
      "Product Array: [120, 60, 40, 30, 24]\n"
     ]
    }
   ],
   "source": [
    "def generate_prod_arr(arr):\n",
    "    n = len(arr)\n",
    "    prod_arr = [1] * n\n",
    "    prefix = 1\n",
    "    for i in range(n):\n",
    "        prod_arr[i] = prefix\n",
    "        prefix *= arr[i]\n",
    "    suffix = 1\n",
    "    for i in range(n - 1, -1, -1):\n",
    "        prod_arr[i] *= suffix\n",
    "        suffix *= arr[i]\n",
    "\n",
    "    return prod_arr\n",
    "\n",
    "arr = [1, 2, 3, 4, 5]\n",
    "prod_arr = generate_prod_arr(arr)\n",
    "\n",
    "print(\"Input Array:\", arr)\n",
    "print(\"Product Array:\", prod_arr)"
   ]
  },
  {
   "cell_type": "code",
   "execution_count": 1,
   "id": "610a6134-caf6-4a30-a8c7-e6fb3ca23ac6",
   "metadata": {},
   "outputs": [
    {
     "name": "stdin",
     "output_type": "stream",
     "text": [
      "Enter a number:  5\n"
     ]
    },
    {
     "name": "stdout",
     "output_type": "stream",
     "text": [
      "The sum of the first 5 numbers is: 15\n"
     ]
    }
   ],
   "source": [
    "n = int(input(\"Enter a number: \"))\n",
    "sum_n = lambda n: sum(range(1, n+1))\n",
    "print(f\"The sum of the first {n} numbers is: {sum_n(n)}\")\n"
   ]
  },
  {
   "cell_type": "code",
   "execution_count": 1,
   "id": "b659d1bd-1475-40b3-bad8-6acf5d399086",
   "metadata": {},
   "outputs": [
    {
     "name": "stdout",
     "output_type": "stream",
     "text": [
      "4\n"
     ]
    }
   ],
   "source": [
    "def find_result(N, D):\n",
    "    sum_of_digits = lambda num: sum(int(digit) for digit in str(num))\n",
    "    low, high = 1, N\n",
    "\n",
    "    while low <= high:\n",
    "        mid = (low + high) // 2\n",
    "        if abs(mid - sum_of_digits(mid)) <= D:\n",
    "            low = mid + 1\n",
    "        else:\n",
    "            high = mid - 1\n",
    "\n",
    "    return N - high\n",
    "\n",
    "N = 13\n",
    "D = 2\n",
    "print(find_result(N, D)) "
   ]
  },
  {
   "cell_type": "code",
   "execution_count": 3,
   "id": "1121baee-685b-4a81-9762-812e6c65cddc",
   "metadata": {},
   "outputs": [
    {
     "name": "stdout",
     "output_type": "stream",
     "text": [
      "4\n"
     ]
    }
   ],
   "source": [
    "n = 13\n",
    "d = 2\n",
    "l = 1\n",
    "h = 13\n",
    "\n",
    "while l <= h:  \n",
    "    mid = (h + l) // 2\n",
    "    sum_dig = mid // 10 + mid % 10\n",
    "    diff = mid - sum_dig\n",
    "\n",
    "    if diff <= 2:\n",
    "        l = mid + 1\n",
    "    else:\n",
    "        h = mid - 1\n",
    "\n",
    "else:\n",
    "    print(n-h)"
   ]
  },
  {
   "cell_type": "code",
   "execution_count": 8,
   "id": "814e31a0-9a8c-4513-82ab-269ba4b3415c",
   "metadata": {},
   "outputs": [
    {
     "name": "stdout",
     "output_type": "stream",
     "text": [
      "10\n",
      "20\n",
      "30\n",
      "40\n",
      "50\n"
     ]
    }
   ],
   "source": []
  },
  {
   "cell_type": "code",
   "execution_count": null,
   "id": "05b8219a-703e-438a-804b-14f5110e703e",
   "metadata": {},
   "outputs": [],
   "source": []
  }
 ],
 "metadata": {
  "kernelspec": {
   "display_name": "Python 3 (ipykernel)",
   "language": "python",
   "name": "python3"
  },
  "language_info": {
   "codemirror_mode": {
    "name": "ipython",
    "version": 3
   },
   "file_extension": ".py",
   "mimetype": "text/x-python",
   "name": "python",
   "nbconvert_exporter": "python",
   "pygments_lexer": "ipython3",
   "version": "3.12.4"
  }
 },
 "nbformat": 4,
 "nbformat_minor": 5
}
