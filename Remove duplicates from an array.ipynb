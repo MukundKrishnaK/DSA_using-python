{
 "cells": [
  {
   "cell_type": "code",
   "execution_count": 3,
   "id": "7741f814-46b0-4b4f-9807-7d184d7154b3",
   "metadata": {},
   "outputs": [
    {
     "name": "stdout",
     "output_type": "stream",
     "text": [
      "[3, 1, 2, 4]\n"
     ]
    }
   ],
   "source": [
    "#member-ship method\n",
    "\n",
    "import numpy as np\n",
    "x=np.array([3,3,1,3,2,4,4])\n",
    "\n",
    "def remove_duplicates(x):\n",
    "    new_arr=[]\n",
    "    for i in x:\n",
    "        if i not in new_arr:\n",
    "            new_arr.append(i)\n",
    "    return new_arr\n",
    "\n",
    "result=remove_duplicates(x)\n",
    "print(result)"
   ]
  },
  {
   "cell_type": "code",
   "execution_count": 7,
   "id": "f6b4e336-a07b-454c-87d4-94b610043fbd",
   "metadata": {},
   "outputs": [
    {
     "data": {
      "text/plain": [
       "{1, 2, 3, 4}"
      ]
     },
     "execution_count": 7,
     "metadata": {},
     "output_type": "execute_result"
    }
   ],
   "source": [
    "import numpy as np\n",
    "x=np.array([3,3,1,3,2,4,4])\n",
    "a=set(x)\n",
    "a"
   ]
  },
  {
   "cell_type": "code",
   "execution_count": 18,
   "id": "9459416f-a397-4fb0-a3b3-c074c040b714",
   "metadata": {},
   "outputs": [
    {
     "data": {
      "text/plain": [
       "array([1, 2, 3, 4])"
      ]
     },
     "execution_count": 18,
     "metadata": {},
     "output_type": "execute_result"
    }
   ],
   "source": [
    "import numpy as np\n",
    "x=np.array([3,3,1,3,2,4,4])\n",
    "a=set(x)\n",
    "b=np.array(list(a))\n",
    "b"
   ]
  },
  {
   "cell_type": "code",
   "execution_count": 21,
   "id": "b92906fa-fdb7-4491-818a-400830128114",
   "metadata": {},
   "outputs": [
    {
     "name": "stdout",
     "output_type": "stream",
     "text": [
      "[1 2 3 4]\n"
     ]
    }
   ],
   "source": [
    "#type conversion method\n",
    "\n",
    "import numpy as np\n",
    "x=np.array([3,3,1,3,2,4,4])\n",
    "\n",
    "def remove_duplicates(x):\n",
    "    unique_elements=list(set(x))\n",
    "    return np.array(unique_elements)\n",
    "\n",
    "result=remove_duplicates(x)\n",
    "print(result)\n"
   ]
  },
  {
   "cell_type": "code",
   "execution_count": 26,
   "id": "683fbf9f-a74d-483b-9347-e7d85079af98",
   "metadata": {},
   "outputs": [],
   "source": [
    "# def find_element_index(arr, element):\n",
    "#     try:\n",
    "#         return arr.index(element)\n",
    "#     except ValueError:\n",
    "#         return -1\n",
    "\n",
    "# def main():\n",
    "#     arr = list(map(int, input(\"Enter the elements of the array separated by space: \").split()))\n",
    "    \n",
    "#     element = int(input(\"Enter the element to find the index of: \"))\n",
    "    \n",
    "#     index = find_element_index(arr, element)\n",
    "    \n",
    "#     if index != -1:\n",
    "#         print(f\"The index of {element} in the array is: {index}\")\n",
    "#     else:\n",
    "#         print(f\"The element {element} is not found in the array.\")\n",
    "\n",
    "# if __name__ == \"__main__\":\n",
    "#     main()\n",
    "\n"
   ]
  },
  {
   "cell_type": "code",
   "execution_count": null,
   "id": "99b28b65-647a-404d-9e28-fb0b3b275ba9",
   "metadata": {},
   "outputs": [],
   "source": []
  },
  {
   "cell_type": "code",
   "execution_count": null,
   "id": "87237569-99e1-4c53-8be7-1f003394dfc0",
   "metadata": {},
   "outputs": [],
   "source": []
  }
 ],
 "metadata": {
  "kernelspec": {
   "display_name": "Python 3 (ipykernel)",
   "language": "python",
   "name": "python3"
  },
  "language_info": {
   "codemirror_mode": {
    "name": "ipython",
    "version": 3
   },
   "file_extension": ".py",
   "mimetype": "text/x-python",
   "name": "python",
   "nbconvert_exporter": "python",
   "pygments_lexer": "ipython3",
   "version": "3.12.4"
  }
 },
 "nbformat": 4,
 "nbformat_minor": 5
}
