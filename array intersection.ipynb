{
 "cells": [
  {
   "cell_type": "code",
   "execution_count": 8,
   "id": "73684354-f991-4d55-b53e-5658ba43e07c",
   "metadata": {},
   "outputs": [
    {
     "name": "stdout",
     "output_type": "stream",
     "text": [
      "[10, 20, 60]\n",
      "<class 'list'>\n"
     ]
    }
   ],
   "source": [
    "#Given two arrays write a python function to find the intersection of both array(ie,common elements)  hint: Use list and set concepts\n",
    "\n",
    "import numpy as np\n",
    "x=np.array([10,30,20,60,50])\n",
    "y=np.array([20,40,60,70,10])\n",
    "\n",
    "i=list(set(x).intersection(set(y)))\n",
    "print(i)\n",
    "print(type(i))"
   ]
  },
  {
   "cell_type": "code",
   "execution_count": 9,
   "id": "54c07e10-6545-4955-946a-cd1c3f19e7cd",
   "metadata": {},
   "outputs": [
    {
     "name": "stdout",
     "output_type": "stream",
     "text": [
      "[4, 5]\n"
     ]
    }
   ],
   "source": [
    "def find_intersection(arr1, arr2):\n",
    "    set1 = set(arr1)\n",
    "    set2 = set(arr2)\n",
    "    intersection = set1 & set2\n",
    "    return list(intersection)\n",
    "array1 = [1, 2, 3, 4, 5]\n",
    "array2 = [4, 5, 6, 7, 8]\n",
    "common_elements = find_intersection(array1, array2)\n",
    "print(common_elements)"
   ]
  },
  {
   "cell_type": "code",
   "execution_count": 10,
   "id": "06c323ce-6eb1-47a5-85f3-ae9e37c3fc59",
   "metadata": {},
   "outputs": [
    {
     "name": "stdout",
     "output_type": "stream",
     "text": [
      "[10 20 60]\n"
     ]
    }
   ],
   "source": [
    "import numpy as np\n",
    "x=np.array([10,30,20,60,50])\n",
    "y=np.array([20,40,60,70,10])\n",
    "\n",
    "def arr_common(x,y):\n",
    "    new_arr=[]\n",
    "    for i in x:\n",
    "        if i in y:\n",
    "            new_arr.append(i)\n",
    "    return np.array(new_arr)\n",
    "\n",
    "result=arr_common(x,y)\n",
    "type(result)\n",
    "print(result)"
   ]
  },
  {
   "cell_type": "code",
   "execution_count": null,
   "id": "dd73c228-86da-4faa-97cf-803bd8024493",
   "metadata": {},
   "outputs": [],
   "source": []
  }
 ],
 "metadata": {
  "kernelspec": {
   "display_name": "Python 3 (ipykernel)",
   "language": "python",
   "name": "python3"
  },
  "language_info": {
   "codemirror_mode": {
    "name": "ipython",
    "version": 3
   },
   "file_extension": ".py",
   "mimetype": "text/x-python",
   "name": "python",
   "nbconvert_exporter": "python",
   "pygments_lexer": "ipython3",
   "version": "3.12.4"
  }
 },
 "nbformat": 4,
 "nbformat_minor": 5
}
