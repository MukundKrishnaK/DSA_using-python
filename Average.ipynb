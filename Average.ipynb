{
 "cells": [
  {
   "cell_type": "code",
   "execution_count": 3,
   "id": "277b25aa-0740-42cf-a0e1-7f58e2240cb6",
   "metadata": {},
   "outputs": [
    {
     "name": "stdout",
     "output_type": "stream",
     "text": [
      "Sum: 34\n",
      "Average: 4.857142857142857\n",
      "<class 'array.array'>\n"
     ]
    }
   ],
   "source": [
    "import array as ar \n",
    "\n",
    "x=ar.array('i',[3,5,2,7,8,4,5])\n",
    "x_sum=sum(x)\n",
    "print(\"Sum:\",x_sum)\n",
    "length=len(x)   #len--->for getting total number of element\n",
    "average=x_sum/length\n",
    "print(\"Average:\",average)\n",
    "print(type(x))"
   ]
  },
  {
   "cell_type": "code",
   "execution_count": 4,
   "id": "6392e5b2-8256-4720-bc29-261ffe18d8c8",
   "metadata": {},
   "outputs": [
    {
     "name": "stdout",
     "output_type": "stream",
     "text": [
      "Sum: 34\n",
      "Average: 4.857142857142857\n",
      "<class 'numpy.ndarray'>\n"
     ]
    }
   ],
   "source": [
    "import numpy as np \n",
    "\n",
    "x=np.array([3,5,2,7,8,4,5])  #no user input needed\n",
    "x_sum=sum(x)\n",
    "print(\"Sum:\",x_sum)\n",
    "length=len(x)   #len--->for getting total number of element\n",
    "average=x_sum/length\n",
    "print(\"Average:\",average)\n",
    "print(type(x))"
   ]
  },
  {
   "cell_type": "code",
   "execution_count": null,
   "id": "d72942e8-9fa3-48e2-bc5b-7bbcc21b0785",
   "metadata": {},
   "outputs": [],
   "source": []
  }
 ],
 "metadata": {
  "kernelspec": {
   "display_name": "Python 3 (ipykernel)",
   "language": "python",
   "name": "python3"
  },
  "language_info": {
   "codemirror_mode": {
    "name": "ipython",
    "version": 3
   },
   "file_extension": ".py",
   "mimetype": "text/x-python",
   "name": "python",
   "nbconvert_exporter": "python",
   "pygments_lexer": "ipython3",
   "version": "3.12.4"
  }
 },
 "nbformat": 4,
 "nbformat_minor": 5
}
