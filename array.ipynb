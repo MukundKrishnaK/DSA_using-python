{
 "cells": [
  {
   "cell_type": "code",
   "execution_count": 2,
   "id": "632a8e35-6f4e-421a-abec-b56e935ad436",
   "metadata": {},
   "outputs": [
    {
     "name": "stdout",
     "output_type": "stream",
     "text": [
      "10\n",
      "20\n",
      "30\n",
      "40\n",
      "50\n"
     ]
    },
    {
     "data": {
      "text/plain": [
       "array.array"
      ]
     },
     "execution_count": 2,
     "metadata": {},
     "output_type": "execute_result"
    }
   ],
   "source": [
    "from array import*\n",
    "array1=array('i',[10,20,30,40,50])\n",
    "for x in array1:\n",
    "    print(x)\n",
    "type(array1)"
   ]
  },
  {
   "cell_type": "code",
   "execution_count": 3,
   "id": "a4100bcf-e1f2-4cae-91c7-238b3105db9d",
   "metadata": {},
   "outputs": [
    {
     "name": "stdout",
     "output_type": "stream",
     "text": [
      "10\n",
      "30\n"
     ]
    }
   ],
   "source": [
    "from array import*\n",
    "array1=array('i',[10,20,30,40,50])\n",
    "print(array1[0])\n",
    "print(array1[2])"
   ]
  },
  {
   "cell_type": "code",
   "execution_count": 5,
   "id": "c53b0485-54cc-43ad-b829-57767c7d91d3",
   "metadata": {},
   "outputs": [
    {
     "name": "stdout",
     "output_type": "stream",
     "text": [
      "10\n",
      "60\n",
      "20\n",
      "30\n",
      "40\n",
      "50\n"
     ]
    }
   ],
   "source": [
    "from array import*\n",
    "array1=array('i',[10,20,30,40,50])\n",
    "array1.insert(1,60)       #insert(index,value)\n",
    "for x in array1:\n",
    "    print(x)"
   ]
  },
  {
   "cell_type": "code",
   "execution_count": 6,
   "id": "ccb9282b-5b58-4485-b257-306140f8d873",
   "metadata": {},
   "outputs": [
    {
     "name": "stdout",
     "output_type": "stream",
     "text": [
      "array('i', [10, 60, 20, 30, 40, 50])\n"
     ]
    }
   ],
   "source": [
    "#insert\n",
    "from array import*\n",
    "array1=array('i',[10,20,30,40,50])\n",
    "array1.insert(1,60)       #insert(index,value)\n",
    "print(array1)"
   ]
  },
  {
   "cell_type": "code",
   "execution_count": 7,
   "id": "66d2a48b-c37b-40a8-ac72-28c5e15ac2e9",
   "metadata": {},
   "outputs": [
    {
     "name": "stdout",
     "output_type": "stream",
     "text": [
      "10\n",
      "20\n",
      "30\n",
      "50\n"
     ]
    }
   ],
   "source": [
    "#remove\n",
    "from array import*\n",
    "array1=array('i',[10,20,30,40,50])\n",
    "array1.remove(40)       #remove(value)\n",
    "for x in array1:\n",
    "    print(x)"
   ]
  },
  {
   "cell_type": "code",
   "execution_count": 9,
   "id": "cdb3cbc9-de5b-4580-979c-ab3dde597fab",
   "metadata": {},
   "outputs": [
    {
     "name": "stdout",
     "output_type": "stream",
     "text": [
      "3\n"
     ]
    }
   ],
   "source": [
    "#Search\n",
    "\n",
    "from array import*\n",
    "array1=array('i',[10,20,30,40,50])\n",
    "print(array1.index(40))    #index(value)"
   ]
  },
  {
   "cell_type": "code",
   "execution_count": 10,
   "id": "df1c5c05-88d6-4286-b558-11f01fbccbe5",
   "metadata": {},
   "outputs": [
    {
     "name": "stdout",
     "output_type": "stream",
     "text": [
      "10\n",
      "20\n",
      "80\n",
      "40\n",
      "50\n"
     ]
    }
   ],
   "source": [
    "#Update\n",
    "\n",
    "from array import*\n",
    "array1=array('i',[10,20,30,40,50])\n",
    "array1[2]=80\n",
    "for x in array1:\n",
    "    print(x)\n"
   ]
  },
  {
   "cell_type": "code",
   "execution_count": 12,
   "id": "e3dad648-bcba-4351-bc10-45b0dc57f5a0",
   "metadata": {},
   "outputs": [
    {
     "name": "stdout",
     "output_type": "stream",
     "text": [
      "Largest element: 50\n",
      "Smallest element: 10\n"
     ]
    }
   ],
   "source": [
    "from array import *\n",
    "array1 = array('i', [10, 20, 30, 40, 50])\n",
    "l = max(array1)\n",
    "s = min(array1)\n",
    "print(\"Largest element:\", l)\n",
    "print(\"Smallest element:\", s)\n"
   ]
  },
  {
   "cell_type": "code",
   "execution_count": null,
   "id": "812115e6-b118-4e14-9887-0f0400291ca5",
   "metadata": {},
   "outputs": [],
   "source": []
  }
 ],
 "metadata": {
  "kernelspec": {
   "display_name": "Python 3 (ipykernel)",
   "language": "python",
   "name": "python3"
  },
  "language_info": {
   "codemirror_mode": {
    "name": "ipython",
    "version": 3
   },
   "file_extension": ".py",
   "mimetype": "text/x-python",
   "name": "python",
   "nbconvert_exporter": "python",
   "pygments_lexer": "ipython3",
   "version": "3.12.4"
  }
 },
 "nbformat": 4,
 "nbformat_minor": 5
}
